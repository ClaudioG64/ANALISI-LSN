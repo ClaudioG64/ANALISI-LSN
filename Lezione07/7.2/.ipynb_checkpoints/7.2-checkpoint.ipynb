{
 "cells": [
  {
   "cell_type": "code",
   "execution_count": null,
   "id": "7ccc6c99-e915-4145-b798-7afb8ce38efd",
   "metadata": {},
   "outputs": [],
   "source": [
    "import numpy as np\n",
    "import matplotlib.pyplot as plt\n",
    "\n",
    "# Carica il file: supponiamo abbia colonne tipo (BLOCK, VALUE, AVE, ERR)\n",
    "data = np.loadtxt(\"../OUTPUT/potential_energy.dat\", usecols=1)  # ACTUAL_PE\n",
    "U = data - np.mean(data)   # centro sui valori\n",
    "\n",
    "M = len(U)\n",
    "C = np.correlate(U, U, mode='full')\n",
    "C = C[M-1:] / C[M-1]  # normalizzazione\n",
    "\n",
    "plt.plot(C[:2000])  # prime 2000 lag\n",
    "plt.xlabel(\"Lag (steps)\")\n",
    "plt.ylabel(\"Autocorrelation C(τ)\")\n",
    "plt.title(\"Autocorrelation of U/N\")\n",
    "plt.show()\n"
   ]
  },
  {
   "cell_type": "code",
   "execution_count": null,
   "id": "b69ced73-3395-4263-ae1c-d5084905e3e8",
   "metadata": {},
   "outputs": [],
   "source": [
    "def block_average(data, L):\n",
    "    M = len(data)\n",
    "    N_blocks = M // L\n",
    "    block_means = np.array([np.mean(data[i*L:(i+1)*L]) for i in range(N_blocks)])\n",
    "    mean = np.mean(block_means)\n",
    "    var = np.var(block_means, ddof=1)\n",
    "    error = np.sqrt(var / N_blocks)\n",
    "    return mean, error\n",
    "\n",
    "L_values = [10, 50, 100, 500, 1000, 5000]\n",
    "errors = []\n",
    "\n",
    "for L in L_values:\n",
    "    mean, err = block_average(data, L)\n",
    "    errors.append(err)\n",
    "\n",
    "plt.errorbar(L_values, errors, fmt='o-')\n",
    "plt.xscale(\"log\")\n",
    "plt.xlabel(\"Block size L\")\n",
    "plt.ylabel(\"Statistical uncertainty of U/N\")\n",
    "plt.title(\"Blocking analysis for U/N\")\n",
    "plt.show()\n"
   ]
  }
 ],
 "metadata": {
  "kernelspec": {
   "display_name": "Python 3 (ipykernel)",
   "language": "python",
   "name": "python3"
  },
  "language_info": {
   "codemirror_mode": {
    "name": "ipython",
    "version": 3
   },
   "file_extension": ".py",
   "mimetype": "text/x-python",
   "name": "python",
   "nbconvert_exporter": "python",
   "pygments_lexer": "ipython3",
   "version": "3.11.7"
  }
 },
 "nbformat": 4,
 "nbformat_minor": 5
}
