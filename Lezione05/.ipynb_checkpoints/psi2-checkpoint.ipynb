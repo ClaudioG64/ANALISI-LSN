{
 "cells": [
  {
   "cell_type": "code",
   "execution_count": null,
   "id": "c3c2d864-028b-4268-8e6f-301a06c64819",
   "metadata": {},
   "outputs": [],
   "source": [
    "import numpy as np\n",
    "import matplotlib.pyplot as plt\n",
    "\n",
    "# Caricamento dati\n",
    "data = np.loadtxt(\"r_mean_psi210.dat\")\n",
    "\n",
    "# Estrazione colonne\n",
    "N_blocks = data[:, 0]  # Numero del blocco\n",
    "mean_r = data[:, 1]    # Media progressiva di <r>\n",
    "error_r = data[:, 2]   # Errore statistico\n",
    "\n",
    "# Plot della media progressiva di <r> con errore\n",
    "plt.figure(figsize=(8,5))\n",
    "plt.errorbar(N_blocks, mean_r, yerr=error_r, fmt=\"o-\", color=\"b\", ecolor=\"r\", capsize=3, label=r\"$\\langle r \\rangle$\")\n",
    "\n",
    "# Linea orizzontale per il valore asintotico atteso (teorico per l'orbitale 1s)\n",
    "r_theory = 1.5  # Valore teorico per l'idrogeno 1s (in unità di Bohr)\n",
    "plt.axhline(y=r_theory, color=\"g\", linestyle=\"--\", label=r\"$\\langle r \\rangle_{theory} = 1.5$\")\n",
    "\n",
    "# Personalizzazione del grafico\n",
    "plt.xlabel(\"Numero di blocchi\")\n",
    "plt.ylabel(r\"$\\langle r \\rangle$ con errore\")\n",
    "plt.title(r\"Convergenza di $\\langle r \\rangle$ con data blocking\")\n",
    "plt.legend()\n",
    "plt.grid(True)\n",
    "\n",
    "# Salva e mostra il plot\n",
    "plt.savefig(\"r_convergence.png\", dpi=300)\n",
    "plt.show()\n"
   ]
  }
 ],
 "metadata": {
  "kernelspec": {
   "display_name": "Python 3 (ipykernel)",
   "language": "python",
   "name": "python3"
  },
  "language_info": {
   "codemirror_mode": {
    "name": "ipython",
    "version": 3
   },
   "file_extension": ".py",
   "mimetype": "text/x-python",
   "name": "python",
   "nbconvert_exporter": "python",
   "pygments_lexer": "ipython3",
   "version": "3.11.7"
  }
 },
 "nbformat": 4,
 "nbformat_minor": 5
}
